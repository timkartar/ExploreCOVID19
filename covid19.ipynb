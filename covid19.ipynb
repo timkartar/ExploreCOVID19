{
 "cells": [
  {
   "cell_type": "code",
   "execution_count": 2,
   "metadata": {},
   "outputs": [],
   "source": [
    "import numpy as np\n",
    "import matplotlib.pyplot as plt\n",
    "\n",
    "# start by loading the fasta file containing covid19 genome\n",
    "genome = \"\".join(open(\"covid19.fasta\",\"r\").read().split(\"\\n\")[1:])"
   ]
  },
  {
   "cell_type": "code",
   "execution_count": 16,
   "metadata": {},
   "outputs": [
    {
     "data": {
      "image/png": "[encoded data removed]",
      "text/plain": [
       "<Figure size 432x288 with 1 Axes>"
      ]
     },
     "metadata": {
      "needs_background": "light"
     },
     "output_type": "display_data"
    }
   ],
   "source": [
    "# How many of each neucleotides ?\n",
    "from collections import Counter\n",
    "neucleotide_freq = Counter(genome)\n",
    "\n",
    "plt.bar(neucleotide_freq.keys(),neucleotide_freq.values())\n",
    "plt.xlabel(\"Neucleotides\")\n",
    "plt.ylabel(\"Frequency in the genome\")\n",
    "plt.savefig(\"neucleotide_frequency.png\",dpi=300)\n",
    "plt.show()\n",
    "plt.close()"
   ]
  },
  {
   "cell_type": "markdown",
   "metadata": {},
   "source": [
    "let's search for start codon 'ATG'\n",
    " We shall use a non-trivial linear time search algorithm called Booyer-Moore search"
   ]
  },
  {
   "cell_type": "code",
   "execution_count": 17,
   "metadata": {},
   "outputs": [],
   "source": [
    "!gcc boyer_moore.c -o boyer_moore; ./boyer_moore ATG covid19.fasta > ATG_occur.txt"
   ]
  },
  {
   "cell_type": "code",
   "execution_count": 19,
   "metadata": {},
   "outputs": [
    {
     "name": "stdout",
     "output_type": "stream",
     "text": [
      "Total Matches found:\t725\r\n"
     ]
    }
   ],
   "source": [
    "#Let's open the output and see how many we found\n",
    "!grep ^Total ATG_occur.txt"
   ]
  },
  {
   "cell_type": "markdown",
   "metadata": {},
   "source": [
    "So, 725 is too many, all of them cannot possibly a start codon. (the virus expresses only a few proteins)\n",
    "Search for the stop codons then ? TAG, TGA, TAA"
   ]
  },
  {
   "cell_type": "code",
   "execution_count": 21,
   "metadata": {},
   "outputs": [
    {
     "name": "stdout",
     "output_type": "stream",
     "text": [
      "TGA\n",
      "Total Matches found:\t630\n",
      "TAG\n",
      "Total Matches found:\t427\n",
      "TAA\n",
      "Total Matches found:\t719\n"
     ]
    }
   ],
   "source": [
    "!./boyer_moore TGA covid19.fasta > TGA_occur.txt \n",
    "!./boyer_moore TAG covid19.fasta > TAG_occur.txt\n",
    "!./boyer_moore TAA covid19.fasta > TAA_occur.txt\n",
    "!echo TGA; grep ^Total TGA_occur.txt\n",
    "!echo TAG; grep ^Total TAG_occur.txt\n",
    "!echo TAA; grep ^Total TAA_occur.txt"
   ]
  },
  {
   "cell_type": "markdown",
   "metadata": {},
   "source": [
    "They also occur a lot many times ! \n",
    "All that is expected because triplets are highly likely to occur just by chance\n",
    "So, let's look for ribosome binding site !\n",
    "\n",
    "take sequences of length 50 before and after the ATG sites discovered earlier. Then we shall do a \"motif search\" among them. 'Motif's are similar non-random sequence that occur in genome which actsas a functional site (i.e. mainly protein binding site). A strong motif will give us candidate sites for start of translation in these cases. (i.e. start of the viral genes!!)\n",
    "\n"
   ]
  },
  {
   "cell_type": "code",
   "execution_count": 31,
   "metadata": {},
   "outputs": [],
   "source": [
    "#just some necessary file processing\n",
    "!grep ^match ATG_occur.txt | cut -d \" \" -f4 > ATG_matches.txt"
   ]
  },
  {
   "cell_type": "code",
   "execution_count": 60,
   "metadata": {},
   "outputs": [],
   "source": [
    "window = 50\n",
    "ATG_positions = [int(i) for i in open(\"ATG_matches.txt\",\"r\").read().split(\"\\n\")[:-1] if int(i) > window]"
   ]
  },
  {
   "cell_type": "code",
   "execution_count": null,
   "metadata": {},
   "outputs": [],
   "source": []
  },
  {
   "cell_type": "code",
   "execution_count": 77,
   "metadata": {},
   "outputs": [],
   "source": [
    "candidate_seqs_containing_motif = []\n",
    "for pos in ATG_positions:   ## double loop, this is possible only becaue viral genome is small\n",
    "    try:\n",
    "        candidate_seqs_containing_motif.append(genome[pos - window:pos+3])\n",
    "    except:\n",
    "        pass\n",
    "    \n",
    "\n",
    "motif_length = 8\n",
    "n_candidates = 10 #len(candidate_seqs_containing_motif)\n",
    "f = open(\"candidate_seqs_containing_motifs.txt\",\"w\")\n",
    "f.write(str(motif_length)+\"\\n\")\n",
    "f.write(str(n_candidates)+\"\\n\")\n",
    "f.write(\"\\n\".join(candidate_seqs_containing_motif))\n",
    "f.close()"
   ]
  },
  {
   "cell_type": "code",
   "execution_count": 118,
   "metadata": {},
   "outputs": [
    {
     "name": "stdout",
     "output_type": "stream",
     "text": [
      "TCTGTTCT \r\n",
      "GCCGATCA \r\n",
      "TGGAGACT \r\n",
      "TGGCTTAG \r\n",
      "TGTGTTCA \r\n",
      "TGTGTTCA \r\n",
      "TGTGTTCA \r\n",
      "TGTGTTCA \r\n",
      "GGCATTCA \r\n",
      "GCCGATCT \r\n"
     ]
    }
   ],
   "source": [
    "!cd java; java Main < ../candidate_seqs_containing_motifs.txt > ../best_motifs.txt; cat ../best_motifs.txt; cd .."
   ]
  },
  {
   "cell_type": "markdown",
   "metadata": {},
   "source": [
    "Now we got our top 10 possible motifs, Let's make a motif logo using this tool: https://weblogo.berkeley.edu/logo.cgi"
   ]
  },
  {
   "cell_type": "code",
   "execution_count": 125,
   "metadata": {},
   "outputs": [
    {
     "name": "stdout",
     "output_type": "stream",
     "text": [
      "GCCGATCATCAGCACATCTAGGTTTCGTCCGGGTGTGACCGAAAGGTAAGATG\n",
      "position of ATG for this occurence:  266\n"
     ]
    }
   ],
   "source": [
    "#TGTGTTCA comes up multiple times !\n",
    "#Let's search for it in the candidates to see where they came from\n",
    "for i in candidate_seqs_containing_motif:\n",
    "    if(\"GCCGATCA\" in i):\n",
    "        print(i)\n",
    "        print(\"position of ATG for this occurence: \", ATG_positions[candidate_seqs_containing_motif.index(i)] + 1)\n"
   ]
  },
  {
   "cell_type": "code",
   "execution_count": null,
   "metadata": {
    "scrolled": true
   },
   "outputs": [],
   "source": []
  },
  {
   "cell_type": "code",
   "execution_count": 126,
   "metadata": {},
   "outputs": [
    {
     "data": {
      "text/plain": [
       "29903"
      ]
     },
     "execution_count": 126,
     "metadata": {},
     "output_type": "execute_result"
    }
   ],
   "source": []
  },
  {
   "cell_type": "code",
   "execution_count": null,
   "metadata": {},
   "outputs": [],
   "source": []
  }
 ],
 "metadata": {
  "kernelspec": {
   "display_name": "Python 3",
   "language": "python",
   "name": "python3"
  },
  "language_info": {
   "codemirror_mode": {
    "name": "ipython",
    "version": 3
   },
   "file_extension": ".py",
   "mimetype": "text/x-python",
   "name": "python",
   "nbconvert_exporter": "python",
   "pygments_lexer": "ipython3",
   "version": "3.7.5"
  }
 },
 "nbformat": 4,
 "nbformat_minor": 2
}
